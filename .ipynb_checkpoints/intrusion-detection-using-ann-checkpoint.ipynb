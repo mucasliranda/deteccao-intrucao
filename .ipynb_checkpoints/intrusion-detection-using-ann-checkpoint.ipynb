{
 "cells": [
  {
   "cell_type": "code",
   "execution_count": 51,
   "id": "43d5c46b",
   "metadata": {},
   "outputs": [],
   "source": [
    "import pandas as pd\n",
    "import numpy as np"
   ]
  },
  {
   "cell_type": "code",
   "execution_count": 52,
   "id": "033e4e24",
   "metadata": {},
   "outputs": [],
   "source": [
    "df=pd.read_csv('datasets/Friday-WorkingHours-Afternoon-PortScan.pcap_ISCX.csv/Friday-WorkingHours-Afternoon-PortScan.pcap_ISCX.csv')\n"
   ]
  },
  {
   "cell_type": "code",
   "execution_count": 53,
   "id": "140ecd2e",
   "metadata": {
    "execution": {
     "iopub.execute_input": "2024-02-11T10:52:46.984873Z",
     "iopub.status.busy": "2024-02-11T10:52:46.984467Z",
     "iopub.status.idle": "2024-02-11T10:52:47.007026Z",
     "shell.execute_reply": "2024-02-11T10:52:47.005724Z"
    },
    "papermill": {
     "duration": 0.037012,
     "end_time": "2024-02-11T10:52:47.009498",
     "exception": false,
     "start_time": "2024-02-11T10:52:46.972486",
     "status": "completed"
    },
    "tags": []
   },
   "outputs": [
    {
     "data": {
      "text/html": [
       "<div>\n",
       "<style scoped>\n",
       "    .dataframe tbody tr th:only-of-type {\n",
       "        vertical-align: middle;\n",
       "    }\n",
       "\n",
       "    .dataframe tbody tr th {\n",
       "        vertical-align: top;\n",
       "    }\n",
       "\n",
       "    .dataframe thead th {\n",
       "        text-align: right;\n",
       "    }\n",
       "</style>\n",
       "<table border=\"1\" class=\"dataframe\">\n",
       "  <thead>\n",
       "    <tr style=\"text-align: right;\">\n",
       "      <th></th>\n",
       "      <th>Destination Port</th>\n",
       "      <th>Flow Duration</th>\n",
       "      <th>Total Fwd Packets</th>\n",
       "      <th>Total Backward Packets</th>\n",
       "      <th>Total Length of Fwd Packets</th>\n",
       "      <th>Total Length of Bwd Packets</th>\n",
       "      <th>Fwd Packet Length Max</th>\n",
       "      <th>Fwd Packet Length Min</th>\n",
       "      <th>Fwd Packet Length Mean</th>\n",
       "      <th>Fwd Packet Length Std</th>\n",
       "      <th>...</th>\n",
       "      <th>min_seg_size_forward</th>\n",
       "      <th>Active Mean</th>\n",
       "      <th>Active Std</th>\n",
       "      <th>Active Max</th>\n",
       "      <th>Active Min</th>\n",
       "      <th>Idle Mean</th>\n",
       "      <th>Idle Std</th>\n",
       "      <th>Idle Max</th>\n",
       "      <th>Idle Min</th>\n",
       "      <th>Label</th>\n",
       "    </tr>\n",
       "  </thead>\n",
       "  <tbody>\n",
       "    <tr>\n",
       "      <th>0</th>\n",
       "      <td>22</td>\n",
       "      <td>1266342</td>\n",
       "      <td>41</td>\n",
       "      <td>44</td>\n",
       "      <td>2664</td>\n",
       "      <td>6954</td>\n",
       "      <td>456</td>\n",
       "      <td>0</td>\n",
       "      <td>64.975610</td>\n",
       "      <td>109.864573</td>\n",
       "      <td>...</td>\n",
       "      <td>32</td>\n",
       "      <td>0.0</td>\n",
       "      <td>0.0</td>\n",
       "      <td>0</td>\n",
       "      <td>0</td>\n",
       "      <td>0.0</td>\n",
       "      <td>0.0</td>\n",
       "      <td>0</td>\n",
       "      <td>0</td>\n",
       "      <td>BENIGN</td>\n",
       "    </tr>\n",
       "    <tr>\n",
       "      <th>1</th>\n",
       "      <td>22</td>\n",
       "      <td>1319353</td>\n",
       "      <td>41</td>\n",
       "      <td>44</td>\n",
       "      <td>2664</td>\n",
       "      <td>6954</td>\n",
       "      <td>456</td>\n",
       "      <td>0</td>\n",
       "      <td>64.975610</td>\n",
       "      <td>109.864573</td>\n",
       "      <td>...</td>\n",
       "      <td>32</td>\n",
       "      <td>0.0</td>\n",
       "      <td>0.0</td>\n",
       "      <td>0</td>\n",
       "      <td>0</td>\n",
       "      <td>0.0</td>\n",
       "      <td>0.0</td>\n",
       "      <td>0</td>\n",
       "      <td>0</td>\n",
       "      <td>BENIGN</td>\n",
       "    </tr>\n",
       "    <tr>\n",
       "      <th>2</th>\n",
       "      <td>22</td>\n",
       "      <td>160</td>\n",
       "      <td>1</td>\n",
       "      <td>1</td>\n",
       "      <td>0</td>\n",
       "      <td>0</td>\n",
       "      <td>0</td>\n",
       "      <td>0</td>\n",
       "      <td>0.000000</td>\n",
       "      <td>0.000000</td>\n",
       "      <td>...</td>\n",
       "      <td>32</td>\n",
       "      <td>0.0</td>\n",
       "      <td>0.0</td>\n",
       "      <td>0</td>\n",
       "      <td>0</td>\n",
       "      <td>0.0</td>\n",
       "      <td>0.0</td>\n",
       "      <td>0</td>\n",
       "      <td>0</td>\n",
       "      <td>BENIGN</td>\n",
       "    </tr>\n",
       "    <tr>\n",
       "      <th>3</th>\n",
       "      <td>22</td>\n",
       "      <td>1303488</td>\n",
       "      <td>41</td>\n",
       "      <td>42</td>\n",
       "      <td>2728</td>\n",
       "      <td>6634</td>\n",
       "      <td>456</td>\n",
       "      <td>0</td>\n",
       "      <td>66.536585</td>\n",
       "      <td>110.129945</td>\n",
       "      <td>...</td>\n",
       "      <td>32</td>\n",
       "      <td>0.0</td>\n",
       "      <td>0.0</td>\n",
       "      <td>0</td>\n",
       "      <td>0</td>\n",
       "      <td>0.0</td>\n",
       "      <td>0.0</td>\n",
       "      <td>0</td>\n",
       "      <td>0</td>\n",
       "      <td>BENIGN</td>\n",
       "    </tr>\n",
       "    <tr>\n",
       "      <th>4</th>\n",
       "      <td>35396</td>\n",
       "      <td>77</td>\n",
       "      <td>1</td>\n",
       "      <td>2</td>\n",
       "      <td>0</td>\n",
       "      <td>0</td>\n",
       "      <td>0</td>\n",
       "      <td>0</td>\n",
       "      <td>0.000000</td>\n",
       "      <td>0.000000</td>\n",
       "      <td>...</td>\n",
       "      <td>32</td>\n",
       "      <td>0.0</td>\n",
       "      <td>0.0</td>\n",
       "      <td>0</td>\n",
       "      <td>0</td>\n",
       "      <td>0.0</td>\n",
       "      <td>0.0</td>\n",
       "      <td>0</td>\n",
       "      <td>0</td>\n",
       "      <td>BENIGN</td>\n",
       "    </tr>\n",
       "  </tbody>\n",
       "</table>\n",
       "<p>5 rows × 79 columns</p>\n",
       "</div>"
      ],
      "text/plain": [
       "    Destination Port   Flow Duration   Total Fwd Packets  \\\n",
       "0                 22         1266342                  41   \n",
       "1                 22         1319353                  41   \n",
       "2                 22             160                   1   \n",
       "3                 22         1303488                  41   \n",
       "4              35396              77                   1   \n",
       "\n",
       "    Total Backward Packets  Total Length of Fwd Packets  \\\n",
       "0                       44                         2664   \n",
       "1                       44                         2664   \n",
       "2                        1                            0   \n",
       "3                       42                         2728   \n",
       "4                        2                            0   \n",
       "\n",
       "    Total Length of Bwd Packets   Fwd Packet Length Max  \\\n",
       "0                          6954                     456   \n",
       "1                          6954                     456   \n",
       "2                             0                       0   \n",
       "3                          6634                     456   \n",
       "4                             0                       0   \n",
       "\n",
       "    Fwd Packet Length Min   Fwd Packet Length Mean   Fwd Packet Length Std  \\\n",
       "0                       0                64.975610              109.864573   \n",
       "1                       0                64.975610              109.864573   \n",
       "2                       0                 0.000000                0.000000   \n",
       "3                       0                66.536585              110.129945   \n",
       "4                       0                 0.000000                0.000000   \n",
       "\n",
       "   ...   min_seg_size_forward  Active Mean   Active Std   Active Max  \\\n",
       "0  ...                     32          0.0          0.0            0   \n",
       "1  ...                     32          0.0          0.0            0   \n",
       "2  ...                     32          0.0          0.0            0   \n",
       "3  ...                     32          0.0          0.0            0   \n",
       "4  ...                     32          0.0          0.0            0   \n",
       "\n",
       "    Active Min  Idle Mean   Idle Std   Idle Max   Idle Min   Label  \n",
       "0            0        0.0        0.0          0          0  BENIGN  \n",
       "1            0        0.0        0.0          0          0  BENIGN  \n",
       "2            0        0.0        0.0          0          0  BENIGN  \n",
       "3            0        0.0        0.0          0          0  BENIGN  \n",
       "4            0        0.0        0.0          0          0  BENIGN  \n",
       "\n",
       "[5 rows x 79 columns]"
      ]
     },
     "execution_count": 53,
     "metadata": {},
     "output_type": "execute_result"
    }
   ],
   "source": [
    "df.head()"
   ]
  },
  {
   "cell_type": "code",
   "execution_count": 54,
   "id": "7ed270f1",
   "metadata": {
    "execution": {
     "iopub.execute_input": "2024-02-11T10:52:47.273522Z",
     "iopub.status.busy": "2024-02-11T10:52:47.273142Z",
     "iopub.status.idle": "2024-02-11T10:52:47.302731Z",
     "shell.execute_reply": "2024-02-11T10:52:47.301059Z"
    },
    "papermill": {
     "duration": 0.044634,
     "end_time": "2024-02-11T10:52:47.305833",
     "exception": false,
     "start_time": "2024-02-11T10:52:47.261199",
     "status": "completed"
    },
    "tags": []
   },
   "outputs": [
    {
     "data": {
      "text/plain": [
       "Index([' Destination Port', ' Flow Duration', ' Total Fwd Packets',\n",
       "       ' Total Backward Packets', 'Total Length of Fwd Packets',\n",
       "       ' Total Length of Bwd Packets', ' Fwd Packet Length Max',\n",
       "       ' Fwd Packet Length Min', ' Fwd Packet Length Mean',\n",
       "       ' Fwd Packet Length Std', 'Bwd Packet Length Max',\n",
       "       ' Bwd Packet Length Min', ' Bwd Packet Length Mean',\n",
       "       ' Bwd Packet Length Std', 'Flow Bytes/s', ' Flow Packets/s',\n",
       "       ' Flow IAT Mean', ' Flow IAT Std', ' Flow IAT Max', ' Flow IAT Min',\n",
       "       'Fwd IAT Total', ' Fwd IAT Mean', ' Fwd IAT Std', ' Fwd IAT Max',\n",
       "       ' Fwd IAT Min', 'Bwd IAT Total', ' Bwd IAT Mean', ' Bwd IAT Std',\n",
       "       ' Bwd IAT Max', ' Bwd IAT Min', 'Fwd PSH Flags', ' Bwd PSH Flags',\n",
       "       ' Fwd URG Flags', ' Bwd URG Flags', ' Fwd Header Length',\n",
       "       ' Bwd Header Length', 'Fwd Packets/s', ' Bwd Packets/s',\n",
       "       ' Min Packet Length', ' Max Packet Length', ' Packet Length Mean',\n",
       "       ' Packet Length Std', ' Packet Length Variance', 'FIN Flag Count',\n",
       "       ' SYN Flag Count', ' RST Flag Count', ' PSH Flag Count',\n",
       "       ' ACK Flag Count', ' URG Flag Count', ' CWE Flag Count',\n",
       "       ' ECE Flag Count', ' Down/Up Ratio', ' Average Packet Size',\n",
       "       ' Avg Fwd Segment Size', ' Avg Bwd Segment Size',\n",
       "       ' Fwd Header Length.1', 'Fwd Avg Bytes/Bulk', ' Fwd Avg Packets/Bulk',\n",
       "       ' Fwd Avg Bulk Rate', ' Bwd Avg Bytes/Bulk', ' Bwd Avg Packets/Bulk',\n",
       "       'Bwd Avg Bulk Rate', 'Subflow Fwd Packets', ' Subflow Fwd Bytes',\n",
       "       ' Subflow Bwd Packets', ' Subflow Bwd Bytes', 'Init_Win_bytes_forward',\n",
       "       ' Init_Win_bytes_backward', ' act_data_pkt_fwd',\n",
       "       ' min_seg_size_forward', 'Active Mean', ' Active Std', ' Active Max',\n",
       "       ' Active Min', 'Idle Mean', ' Idle Std', ' Idle Max', ' Idle Min',\n",
       "       ' Label'],\n",
       "      dtype='object')"
      ]
     },
     "execution_count": 54,
     "metadata": {},
     "output_type": "execute_result"
    }
   ],
   "source": [
    "df.columns\n"
   ]
  },
  {
   "cell_type": "code",
   "execution_count": 55,
   "id": "65161407",
   "metadata": {},
   "outputs": [],
   "source": [
    "from sklearn.preprocessing import LabelEncoder\n",
    "encoder = LabelEncoder()\n",
    "df[' Label']= encoder.fit_transform(df[' Label'])"
   ]
  },
  {
   "cell_type": "code",
   "execution_count": 56,
   "id": "935f31c1",
   "metadata": {},
   "outputs": [
    {
     "data": {
      "text/html": [
       "<div>\n",
       "<style scoped>\n",
       "    .dataframe tbody tr th:only-of-type {\n",
       "        vertical-align: middle;\n",
       "    }\n",
       "\n",
       "    .dataframe tbody tr th {\n",
       "        vertical-align: top;\n",
       "    }\n",
       "\n",
       "    .dataframe thead th {\n",
       "        text-align: right;\n",
       "    }\n",
       "</style>\n",
       "<table border=\"1\" class=\"dataframe\">\n",
       "  <thead>\n",
       "    <tr style=\"text-align: right;\">\n",
       "      <th></th>\n",
       "      <th>Destination Port</th>\n",
       "      <th>Flow Duration</th>\n",
       "      <th>Total Fwd Packets</th>\n",
       "      <th>Total Backward Packets</th>\n",
       "      <th>Total Length of Fwd Packets</th>\n",
       "      <th>Total Length of Bwd Packets</th>\n",
       "      <th>Fwd Packet Length Max</th>\n",
       "      <th>Fwd Packet Length Min</th>\n",
       "      <th>Fwd Packet Length Mean</th>\n",
       "      <th>Fwd Packet Length Std</th>\n",
       "      <th>...</th>\n",
       "      <th>min_seg_size_forward</th>\n",
       "      <th>Active Mean</th>\n",
       "      <th>Active Std</th>\n",
       "      <th>Active Max</th>\n",
       "      <th>Active Min</th>\n",
       "      <th>Idle Mean</th>\n",
       "      <th>Idle Std</th>\n",
       "      <th>Idle Max</th>\n",
       "      <th>Idle Min</th>\n",
       "      <th>Label</th>\n",
       "    </tr>\n",
       "  </thead>\n",
       "  <tbody>\n",
       "    <tr>\n",
       "      <th>0</th>\n",
       "      <td>22</td>\n",
       "      <td>1266342</td>\n",
       "      <td>41</td>\n",
       "      <td>44</td>\n",
       "      <td>2664</td>\n",
       "      <td>6954</td>\n",
       "      <td>456</td>\n",
       "      <td>0</td>\n",
       "      <td>64.975610</td>\n",
       "      <td>109.864573</td>\n",
       "      <td>...</td>\n",
       "      <td>32</td>\n",
       "      <td>0.0</td>\n",
       "      <td>0.0</td>\n",
       "      <td>0</td>\n",
       "      <td>0</td>\n",
       "      <td>0.0</td>\n",
       "      <td>0.0</td>\n",
       "      <td>0</td>\n",
       "      <td>0</td>\n",
       "      <td>0</td>\n",
       "    </tr>\n",
       "    <tr>\n",
       "      <th>1</th>\n",
       "      <td>22</td>\n",
       "      <td>1319353</td>\n",
       "      <td>41</td>\n",
       "      <td>44</td>\n",
       "      <td>2664</td>\n",
       "      <td>6954</td>\n",
       "      <td>456</td>\n",
       "      <td>0</td>\n",
       "      <td>64.975610</td>\n",
       "      <td>109.864573</td>\n",
       "      <td>...</td>\n",
       "      <td>32</td>\n",
       "      <td>0.0</td>\n",
       "      <td>0.0</td>\n",
       "      <td>0</td>\n",
       "      <td>0</td>\n",
       "      <td>0.0</td>\n",
       "      <td>0.0</td>\n",
       "      <td>0</td>\n",
       "      <td>0</td>\n",
       "      <td>0</td>\n",
       "    </tr>\n",
       "    <tr>\n",
       "      <th>2</th>\n",
       "      <td>22</td>\n",
       "      <td>160</td>\n",
       "      <td>1</td>\n",
       "      <td>1</td>\n",
       "      <td>0</td>\n",
       "      <td>0</td>\n",
       "      <td>0</td>\n",
       "      <td>0</td>\n",
       "      <td>0.000000</td>\n",
       "      <td>0.000000</td>\n",
       "      <td>...</td>\n",
       "      <td>32</td>\n",
       "      <td>0.0</td>\n",
       "      <td>0.0</td>\n",
       "      <td>0</td>\n",
       "      <td>0</td>\n",
       "      <td>0.0</td>\n",
       "      <td>0.0</td>\n",
       "      <td>0</td>\n",
       "      <td>0</td>\n",
       "      <td>0</td>\n",
       "    </tr>\n",
       "    <tr>\n",
       "      <th>3</th>\n",
       "      <td>22</td>\n",
       "      <td>1303488</td>\n",
       "      <td>41</td>\n",
       "      <td>42</td>\n",
       "      <td>2728</td>\n",
       "      <td>6634</td>\n",
       "      <td>456</td>\n",
       "      <td>0</td>\n",
       "      <td>66.536585</td>\n",
       "      <td>110.129945</td>\n",
       "      <td>...</td>\n",
       "      <td>32</td>\n",
       "      <td>0.0</td>\n",
       "      <td>0.0</td>\n",
       "      <td>0</td>\n",
       "      <td>0</td>\n",
       "      <td>0.0</td>\n",
       "      <td>0.0</td>\n",
       "      <td>0</td>\n",
       "      <td>0</td>\n",
       "      <td>0</td>\n",
       "    </tr>\n",
       "    <tr>\n",
       "      <th>4</th>\n",
       "      <td>35396</td>\n",
       "      <td>77</td>\n",
       "      <td>1</td>\n",
       "      <td>2</td>\n",
       "      <td>0</td>\n",
       "      <td>0</td>\n",
       "      <td>0</td>\n",
       "      <td>0</td>\n",
       "      <td>0.000000</td>\n",
       "      <td>0.000000</td>\n",
       "      <td>...</td>\n",
       "      <td>32</td>\n",
       "      <td>0.0</td>\n",
       "      <td>0.0</td>\n",
       "      <td>0</td>\n",
       "      <td>0</td>\n",
       "      <td>0.0</td>\n",
       "      <td>0.0</td>\n",
       "      <td>0</td>\n",
       "      <td>0</td>\n",
       "      <td>0</td>\n",
       "    </tr>\n",
       "  </tbody>\n",
       "</table>\n",
       "<p>5 rows × 79 columns</p>\n",
       "</div>"
      ],
      "text/plain": [
       "    Destination Port   Flow Duration   Total Fwd Packets  \\\n",
       "0                 22         1266342                  41   \n",
       "1                 22         1319353                  41   \n",
       "2                 22             160                   1   \n",
       "3                 22         1303488                  41   \n",
       "4              35396              77                   1   \n",
       "\n",
       "    Total Backward Packets  Total Length of Fwd Packets  \\\n",
       "0                       44                         2664   \n",
       "1                       44                         2664   \n",
       "2                        1                            0   \n",
       "3                       42                         2728   \n",
       "4                        2                            0   \n",
       "\n",
       "    Total Length of Bwd Packets   Fwd Packet Length Max  \\\n",
       "0                          6954                     456   \n",
       "1                          6954                     456   \n",
       "2                             0                       0   \n",
       "3                          6634                     456   \n",
       "4                             0                       0   \n",
       "\n",
       "    Fwd Packet Length Min   Fwd Packet Length Mean   Fwd Packet Length Std  \\\n",
       "0                       0                64.975610              109.864573   \n",
       "1                       0                64.975610              109.864573   \n",
       "2                       0                 0.000000                0.000000   \n",
       "3                       0                66.536585              110.129945   \n",
       "4                       0                 0.000000                0.000000   \n",
       "\n",
       "   ...   min_seg_size_forward  Active Mean   Active Std   Active Max  \\\n",
       "0  ...                     32          0.0          0.0            0   \n",
       "1  ...                     32          0.0          0.0            0   \n",
       "2  ...                     32          0.0          0.0            0   \n",
       "3  ...                     32          0.0          0.0            0   \n",
       "4  ...                     32          0.0          0.0            0   \n",
       "\n",
       "    Active Min  Idle Mean   Idle Std   Idle Max   Idle Min   Label  \n",
       "0            0        0.0        0.0          0          0       0  \n",
       "1            0        0.0        0.0          0          0       0  \n",
       "2            0        0.0        0.0          0          0       0  \n",
       "3            0        0.0        0.0          0          0       0  \n",
       "4            0        0.0        0.0          0          0       0  \n",
       "\n",
       "[5 rows x 79 columns]"
      ]
     },
     "execution_count": 56,
     "metadata": {},
     "output_type": "execute_result"
    }
   ],
   "source": [
    "df.head()\n"
   ]
  },
  {
   "cell_type": "code",
   "execution_count": 57,
   "id": "eb8c8dbd",
   "metadata": {},
   "outputs": [
    {
     "data": {
      "text/plain": [
       "<bound method Series.sum of  Label\n",
       "1    158930\n",
       "0    127537\n",
       "Name: count, dtype: int64>"
      ]
     },
     "execution_count": 57,
     "metadata": {},
     "output_type": "execute_result"
    }
   ],
   "source": [
    "df[' Label'].value_counts().sum\n"
   ]
  },
  {
   "cell_type": "code",
   "execution_count": 58,
   "id": "ded8ee35",
   "metadata": {},
   "outputs": [],
   "source": [
    "df = df.fillna(0)  # Replace NaN with 0\n",
    "df = df.replace([np.inf, -np.inf], 0)"
   ]
  },
  {
   "cell_type": "code",
   "execution_count": 59,
   "id": "6a3e27d9",
   "metadata": {},
   "outputs": [
    {
     "data": {
      "text/plain": [
       " Destination Port              0\n",
       " Flow Duration                 0\n",
       " Total Fwd Packets             0\n",
       " Total Backward Packets        0\n",
       "Total Length of Fwd Packets    0\n",
       "                              ..\n",
       "Idle Mean                      0\n",
       " Idle Std                      0\n",
       " Idle Max                      0\n",
       " Idle Min                      0\n",
       " Label                         0\n",
       "Length: 79, dtype: int64"
      ]
     },
     "execution_count": 59,
     "metadata": {},
     "output_type": "execute_result"
    }
   ],
   "source": [
    "df.isnull().sum()\n"
   ]
  },
  {
   "cell_type": "code",
   "execution_count": 60,
   "id": "149dfa8b",
   "metadata": {},
   "outputs": [],
   "source": [
    "df=df.astype(int)\n"
   ]
  },
  {
   "cell_type": "code",
   "execution_count": 61,
   "id": "0daf8add",
   "metadata": {
    "execution": {
     "iopub.execute_input": "2024-02-11T10:52:47.329469Z",
     "iopub.status.busy": "2024-02-11T10:52:47.329071Z",
     "iopub.status.idle": "2024-02-11T10:52:47.780955Z",
     "shell.execute_reply": "2024-02-11T10:52:47.779717Z"
    },
    "papermill": {
     "duration": 0.466786,
     "end_time": "2024-02-11T10:52:47.783717",
     "exception": false,
     "start_time": "2024-02-11T10:52:47.316931",
     "status": "completed"
    },
    "tags": []
   },
   "outputs": [],
   "source": [
    "import numpy as np\n",
    "from sklearn.feature_selection import SelectKBest, f_classif\n",
    "\n",
    "X = df.drop(' Label',axis=1)\n",
    "y = df[' Label']\n",
    "\n",
    "\n"
   ]
  },
  {
   "cell_type": "code",
   "execution_count": 62,
   "id": "12b196c2",
   "metadata": {
    "execution": {
     "iopub.execute_input": "2024-02-11T10:52:48.126360Z",
     "iopub.status.busy": "2024-02-11T10:52:48.125996Z",
     "iopub.status.idle": "2024-02-11T10:52:48.527174Z",
     "shell.execute_reply": "2024-02-11T10:52:48.525285Z"
    },
    "papermill": {
     "duration": 0.415183,
     "end_time": "2024-02-11T10:52:48.529394",
     "exception": false,
     "start_time": "2024-02-11T10:52:48.114211",
     "status": "completed"
    },
    "tags": []
   },
   "outputs": [
    {
     "name": "stderr",
     "output_type": "stream",
     "text": [
      "c:\\Users\\yuuki\\AppData\\Local\\Programs\\Python\\Python312\\Lib\\site-packages\\sklearn\\feature_selection\\_univariate_selection.py:112: UserWarning: Features [31 32 33 49 56 57 58 59 60 61] are constant.\n",
      "  warnings.warn(\"Features %s are constant.\" % constant_features_idx, UserWarning)\n",
      "c:\\Users\\yuuki\\AppData\\Local\\Programs\\Python\\Python312\\Lib\\site-packages\\sklearn\\feature_selection\\_univariate_selection.py:113: RuntimeWarning: invalid value encountered in divide\n",
      "  f = msb / msw\n"
     ]
    }
   ],
   "source": [
    "from sklearn.impute import SimpleImputer\n",
    "# Impute missing values (replace NaNs with the mean)\n",
    "imputer = SimpleImputer(strategy='mean')\n",
    "X_imputed = imputer.fit_transform(X)\n",
    "\n",
    "# Determine the number of columns (features) in your DataFrame\n",
    "num_columns = df.shape[1]\n",
    "\n",
    "# Set an appropriate value for k (less than or equal to the number of columns)\n",
    "k = min(10, num_columns)  # Adjust this as needed\n",
    "\n",
    "# Initialize SelectKBest with the scoring function\n",
    "k_best = SelectKBest(score_func=f_classif, k=k)\n",
    "\n",
    "# Fit and transform the imputed data to select the top 10 features\n",
    "X_new = k_best.fit_transform(X_imputed, y)"
   ]
  },
  {
   "cell_type": "code",
   "execution_count": 63,
   "id": "988cc2ba",
   "metadata": {
    "execution": {
     "iopub.execute_input": "2024-02-11T10:52:48.553672Z",
     "iopub.status.busy": "2024-02-11T10:52:48.552603Z",
     "iopub.status.idle": "2024-02-11T10:52:48.558607Z",
     "shell.execute_reply": "2024-02-11T10:52:48.557213Z"
    },
    "papermill": {
     "duration": 0.021106,
     "end_time": "2024-02-11T10:52:48.561428",
     "exception": false,
     "start_time": "2024-02-11T10:52:48.540322",
     "status": "completed"
    },
    "tags": []
   },
   "outputs": [],
   "source": [
    "# Get the boolean mask of selected features\n",
    "selected_features_mask = k_best.get_support()\n",
    "\n"
   ]
  },
  {
   "cell_type": "code",
   "execution_count": 64,
   "id": "f28837bf",
   "metadata": {},
   "outputs": [],
   "source": [
    "elected_feature_names = X.columns[selected_features_mask]\n"
   ]
  },
  {
   "cell_type": "code",
   "execution_count": 65,
   "id": "af71df1e",
   "metadata": {
    "execution": {
     "iopub.execute_input": "2024-02-11T10:52:48.618901Z",
     "iopub.status.busy": "2024-02-11T10:52:48.618514Z",
     "iopub.status.idle": "2024-02-11T10:52:48.625178Z",
     "shell.execute_reply": "2024-02-11T10:52:48.624313Z"
    },
    "papermill": {
     "duration": 0.021719,
     "end_time": "2024-02-11T10:52:48.627444",
     "exception": false,
     "start_time": "2024-02-11T10:52:48.605725",
     "status": "completed"
    },
    "tags": []
   },
   "outputs": [
    {
     "data": {
      "text/plain": [
       "Index([' Fwd Packet Length Min', ' Bwd Packet Length Min',\n",
       "       ' Bwd Packet Length Mean', ' Min Packet Length', ' Packet Length Mean',\n",
       "       ' PSH Flag Count', ' ACK Flag Count', ' Average Packet Size',\n",
       "       ' Avg Bwd Segment Size', ' min_seg_size_forward'],\n",
       "      dtype='object')"
      ]
     },
     "execution_count": 65,
     "metadata": {},
     "output_type": "execute_result"
    }
   ],
   "source": [
    "elected_feature_names"
   ]
  },
  {
   "cell_type": "code",
   "execution_count": 66,
   "id": "9e520f45",
   "metadata": {
    "execution": {
     "iopub.execute_input": "2024-02-11T10:52:48.652581Z",
     "iopub.status.busy": "2024-02-11T10:52:48.652178Z",
     "iopub.status.idle": "2024-02-11T10:52:48.657294Z",
     "shell.execute_reply": "2024-02-11T10:52:48.656167Z"
    },
    "papermill": {
     "duration": 0.021211,
     "end_time": "2024-02-11T10:52:48.660212",
     "exception": false,
     "start_time": "2024-02-11T10:52:48.639001",
     "status": "completed"
    },
    "tags": []
   },
   "outputs": [],
   "source": [
    "new_columns=[' Destination Port', ' Bwd Packet Length Min',\n",
    "       ' Bwd Packet Length Mean', ' Bwd Packets/s', ' Min Packet Length',\n",
    "       ' PSH Flag Count', ' URG Flag Count', ' Avg Fwd Segment Size',\n",
    "       ' Avg Bwd Segment Size', ' min_seg_size_forward']"
   ]
  },
  {
   "cell_type": "code",
   "execution_count": 67,
   "id": "16838a3f",
   "metadata": {
    "execution": {
     "iopub.execute_input": "2024-02-11T10:52:48.684703Z",
     "iopub.status.busy": "2024-02-11T10:52:48.684315Z",
     "iopub.status.idle": "2024-02-11T10:52:48.693183Z",
     "shell.execute_reply": "2024-02-11T10:52:48.691835Z"
    },
    "papermill": {
     "duration": 0.02351,
     "end_time": "2024-02-11T10:52:48.695185",
     "exception": false,
     "start_time": "2024-02-11T10:52:48.671675",
     "status": "completed"
    },
    "tags": []
   },
   "outputs": [],
   "source": [
    "df_new=X[new_columns]"
   ]
  },
  {
   "cell_type": "code",
   "execution_count": 68,
   "id": "7c2bbe97",
   "metadata": {
    "execution": {
     "iopub.execute_input": "2024-02-11T10:52:48.718926Z",
     "iopub.status.busy": "2024-02-11T10:52:48.718553Z",
     "iopub.status.idle": "2024-02-11T10:52:48.735268Z",
     "shell.execute_reply": "2024-02-11T10:52:48.734025Z"
    },
    "papermill": {
     "duration": 0.030646,
     "end_time": "2024-02-11T10:52:48.737208",
     "exception": false,
     "start_time": "2024-02-11T10:52:48.706562",
     "status": "completed"
    },
    "tags": []
   },
   "outputs": [
    {
     "data": {
      "text/html": [
       "<div>\n",
       "<style scoped>\n",
       "    .dataframe tbody tr th:only-of-type {\n",
       "        vertical-align: middle;\n",
       "    }\n",
       "\n",
       "    .dataframe tbody tr th {\n",
       "        vertical-align: top;\n",
       "    }\n",
       "\n",
       "    .dataframe thead th {\n",
       "        text-align: right;\n",
       "    }\n",
       "</style>\n",
       "<table border=\"1\" class=\"dataframe\">\n",
       "  <thead>\n",
       "    <tr style=\"text-align: right;\">\n",
       "      <th></th>\n",
       "      <th>Destination Port</th>\n",
       "      <th>Bwd Packet Length Min</th>\n",
       "      <th>Bwd Packet Length Mean</th>\n",
       "      <th>Bwd Packets/s</th>\n",
       "      <th>Min Packet Length</th>\n",
       "      <th>PSH Flag Count</th>\n",
       "      <th>URG Flag Count</th>\n",
       "      <th>Avg Fwd Segment Size</th>\n",
       "      <th>Avg Bwd Segment Size</th>\n",
       "      <th>min_seg_size_forward</th>\n",
       "    </tr>\n",
       "  </thead>\n",
       "  <tbody>\n",
       "    <tr>\n",
       "      <th>0</th>\n",
       "      <td>22</td>\n",
       "      <td>0</td>\n",
       "      <td>158</td>\n",
       "      <td>34</td>\n",
       "      <td>0</td>\n",
       "      <td>1</td>\n",
       "      <td>0</td>\n",
       "      <td>64</td>\n",
       "      <td>158</td>\n",
       "      <td>32</td>\n",
       "    </tr>\n",
       "    <tr>\n",
       "      <th>1</th>\n",
       "      <td>22</td>\n",
       "      <td>0</td>\n",
       "      <td>158</td>\n",
       "      <td>33</td>\n",
       "      <td>0</td>\n",
       "      <td>1</td>\n",
       "      <td>0</td>\n",
       "      <td>64</td>\n",
       "      <td>158</td>\n",
       "      <td>32</td>\n",
       "    </tr>\n",
       "    <tr>\n",
       "      <th>2</th>\n",
       "      <td>22</td>\n",
       "      <td>0</td>\n",
       "      <td>0</td>\n",
       "      <td>6250</td>\n",
       "      <td>0</td>\n",
       "      <td>0</td>\n",
       "      <td>1</td>\n",
       "      <td>0</td>\n",
       "      <td>0</td>\n",
       "      <td>32</td>\n",
       "    </tr>\n",
       "    <tr>\n",
       "      <th>3</th>\n",
       "      <td>22</td>\n",
       "      <td>0</td>\n",
       "      <td>157</td>\n",
       "      <td>32</td>\n",
       "      <td>0</td>\n",
       "      <td>1</td>\n",
       "      <td>0</td>\n",
       "      <td>66</td>\n",
       "      <td>157</td>\n",
       "      <td>32</td>\n",
       "    </tr>\n",
       "    <tr>\n",
       "      <th>4</th>\n",
       "      <td>35396</td>\n",
       "      <td>0</td>\n",
       "      <td>0</td>\n",
       "      <td>25974</td>\n",
       "      <td>0</td>\n",
       "      <td>0</td>\n",
       "      <td>1</td>\n",
       "      <td>0</td>\n",
       "      <td>0</td>\n",
       "      <td>32</td>\n",
       "    </tr>\n",
       "    <tr>\n",
       "      <th>...</th>\n",
       "      <td>...</td>\n",
       "      <td>...</td>\n",
       "      <td>...</td>\n",
       "      <td>...</td>\n",
       "      <td>...</td>\n",
       "      <td>...</td>\n",
       "      <td>...</td>\n",
       "      <td>...</td>\n",
       "      <td>...</td>\n",
       "      <td>...</td>\n",
       "    </tr>\n",
       "    <tr>\n",
       "      <th>286462</th>\n",
       "      <td>443</td>\n",
       "      <td>0</td>\n",
       "      <td>1856</td>\n",
       "      <td>290</td>\n",
       "      <td>0</td>\n",
       "      <td>1</td>\n",
       "      <td>0</td>\n",
       "      <td>27</td>\n",
       "      <td>1856</td>\n",
       "      <td>20</td>\n",
       "    </tr>\n",
       "    <tr>\n",
       "      <th>286463</th>\n",
       "      <td>443</td>\n",
       "      <td>0</td>\n",
       "      <td>1769</td>\n",
       "      <td>155</td>\n",
       "      <td>0</td>\n",
       "      <td>1</td>\n",
       "      <td>0</td>\n",
       "      <td>27</td>\n",
       "      <td>1769</td>\n",
       "      <td>20</td>\n",
       "    </tr>\n",
       "    <tr>\n",
       "      <th>286464</th>\n",
       "      <td>443</td>\n",
       "      <td>0</td>\n",
       "      <td>2096</td>\n",
       "      <td>636</td>\n",
       "      <td>0</td>\n",
       "      <td>1</td>\n",
       "      <td>0</td>\n",
       "      <td>20</td>\n",
       "      <td>2096</td>\n",
       "      <td>20</td>\n",
       "    </tr>\n",
       "    <tr>\n",
       "      <th>286465</th>\n",
       "      <td>443</td>\n",
       "      <td>0</td>\n",
       "      <td>1777</td>\n",
       "      <td>433</td>\n",
       "      <td>0</td>\n",
       "      <td>1</td>\n",
       "      <td>0</td>\n",
       "      <td>26</td>\n",
       "      <td>1777</td>\n",
       "      <td>20</td>\n",
       "    </tr>\n",
       "    <tr>\n",
       "      <th>286466</th>\n",
       "      <td>443</td>\n",
       "      <td>0</td>\n",
       "      <td>1755</td>\n",
       "      <td>304</td>\n",
       "      <td>0</td>\n",
       "      <td>1</td>\n",
       "      <td>0</td>\n",
       "      <td>28</td>\n",
       "      <td>1755</td>\n",
       "      <td>20</td>\n",
       "    </tr>\n",
       "  </tbody>\n",
       "</table>\n",
       "<p>286467 rows × 10 columns</p>\n",
       "</div>"
      ],
      "text/plain": [
       "        Destination Port  Bwd Packet Length Min  Bwd Packet Length Mean  \\\n",
       "0                     22                      0                     158   \n",
       "1                     22                      0                     158   \n",
       "2                     22                      0                       0   \n",
       "3                     22                      0                     157   \n",
       "4                  35396                      0                       0   \n",
       "...                  ...                    ...                     ...   \n",
       "286462               443                      0                    1856   \n",
       "286463               443                      0                    1769   \n",
       "286464               443                      0                    2096   \n",
       "286465               443                      0                    1777   \n",
       "286466               443                      0                    1755   \n",
       "\n",
       "        Bwd Packets/s  Min Packet Length  PSH Flag Count  URG Flag Count  \\\n",
       "0                  34                  0               1               0   \n",
       "1                  33                  0               1               0   \n",
       "2                6250                  0               0               1   \n",
       "3                  32                  0               1               0   \n",
       "4               25974                  0               0               1   \n",
       "...               ...                ...             ...             ...   \n",
       "286462            290                  0               1               0   \n",
       "286463            155                  0               1               0   \n",
       "286464            636                  0               1               0   \n",
       "286465            433                  0               1               0   \n",
       "286466            304                  0               1               0   \n",
       "\n",
       "        Avg Fwd Segment Size  Avg Bwd Segment Size  min_seg_size_forward  \n",
       "0                         64                   158                    32  \n",
       "1                         64                   158                    32  \n",
       "2                          0                     0                    32  \n",
       "3                         66                   157                    32  \n",
       "4                          0                     0                    32  \n",
       "...                      ...                   ...                   ...  \n",
       "286462                    27                  1856                    20  \n",
       "286463                    27                  1769                    20  \n",
       "286464                    20                  2096                    20  \n",
       "286465                    26                  1777                    20  \n",
       "286466                    28                  1755                    20  \n",
       "\n",
       "[286467 rows x 10 columns]"
      ]
     },
     "execution_count": 68,
     "metadata": {},
     "output_type": "execute_result"
    }
   ],
   "source": [
    "df_new"
   ]
  },
  {
   "cell_type": "code",
   "execution_count": 69,
   "id": "3d8100ae",
   "metadata": {
    "execution": {
     "iopub.execute_input": "2024-02-11T10:52:48.762153Z",
     "iopub.status.busy": "2024-02-11T10:52:48.761792Z",
     "iopub.status.idle": "2024-02-11T10:52:48.770768Z",
     "shell.execute_reply": "2024-02-11T10:52:48.769378Z"
    },
    "papermill": {
     "duration": 0.023955,
     "end_time": "2024-02-11T10:52:48.772861",
     "exception": false,
     "start_time": "2024-02-11T10:52:48.748906",
     "status": "completed"
    },
    "tags": []
   },
   "outputs": [
    {
     "name": "stderr",
     "output_type": "stream",
     "text": [
      "C:\\Users\\yuuki\\AppData\\Local\\Temp\\ipykernel_23656\\3066840877.py:1: SettingWithCopyWarning: \n",
      "A value is trying to be set on a copy of a slice from a DataFrame.\n",
      "Try using .loc[row_indexer,col_indexer] = value instead\n",
      "\n",
      "See the caveats in the documentation: https://pandas.pydata.org/pandas-docs/stable/user_guide/indexing.html#returning-a-view-versus-a-copy\n",
      "  df_new['label']=df[' Label']\n"
     ]
    }
   ],
   "source": [
    "df_new['label']=df[' Label']"
   ]
  },
  {
   "cell_type": "code",
   "execution_count": 70,
   "id": "089d4324",
   "metadata": {
    "execution": {
     "iopub.execute_input": "2024-02-11T10:52:48.798285Z",
     "iopub.status.busy": "2024-02-11T10:52:48.797893Z",
     "iopub.status.idle": "2024-02-11T10:52:48.811135Z",
     "shell.execute_reply": "2024-02-11T10:52:48.809875Z"
    },
    "papermill": {
     "duration": 0.028611,
     "end_time": "2024-02-11T10:52:48.813382",
     "exception": false,
     "start_time": "2024-02-11T10:52:48.784771",
     "status": "completed"
    },
    "tags": []
   },
   "outputs": [],
   "source": [
    "X1=df_new.iloc[:,:-1].values\n",
    "y1=df_new.iloc[:,-1].values"
   ]
  },
  {
   "cell_type": "code",
   "execution_count": 71,
   "id": "d55d2a5c",
   "metadata": {
    "execution": {
     "iopub.execute_input": "2024-02-11T10:52:48.839212Z",
     "iopub.status.busy": "2024-02-11T10:52:48.838828Z",
     "iopub.status.idle": "2024-02-11T10:52:48.845811Z",
     "shell.execute_reply": "2024-02-11T10:52:48.844974Z"
    },
    "papermill": {
     "duration": 0.022126,
     "end_time": "2024-02-11T10:52:48.847810",
     "exception": false,
     "start_time": "2024-02-11T10:52:48.825684",
     "status": "completed"
    },
    "tags": []
   },
   "outputs": [
    {
     "data": {
      "text/plain": [
       "array([[  22,    0,  158, ...,   64,  158,   32],\n",
       "       [  22,    0,  158, ...,   64,  158,   32],\n",
       "       [  22,    0,    0, ...,    0,    0,   32],\n",
       "       ...,\n",
       "       [ 443,    0, 2096, ...,   20, 2096,   20],\n",
       "       [ 443,    0, 1777, ...,   26, 1777,   20],\n",
       "       [ 443,    0, 1755, ...,   28, 1755,   20]])"
      ]
     },
     "execution_count": 71,
     "metadata": {},
     "output_type": "execute_result"
    }
   ],
   "source": [
    "X1"
   ]
  },
  {
   "cell_type": "code",
   "execution_count": 72,
   "id": "a61b033b",
   "metadata": {
    "execution": {
     "iopub.execute_input": "2024-02-11T10:52:48.874928Z",
     "iopub.status.busy": "2024-02-11T10:52:48.874504Z",
     "iopub.status.idle": "2024-02-11T10:52:48.913759Z",
     "shell.execute_reply": "2024-02-11T10:52:48.912174Z"
    },
    "papermill": {
     "duration": 0.056178,
     "end_time": "2024-02-11T10:52:48.916661",
     "exception": false,
     "start_time": "2024-02-11T10:52:48.860483",
     "status": "completed"
    },
    "tags": []
   },
   "outputs": [],
   "source": [
    "from sklearn.model_selection import train_test_split\n",
    "X_train, X_test, y_train, y_test = train_test_split(X1, y1, test_size=0.3, random_state=42)"
   ]
  },
  {
   "cell_type": "code",
   "execution_count": 73,
   "id": "ef6d8afa",
   "metadata": {
    "execution": {
     "iopub.execute_input": "2024-02-11T10:52:48.942945Z",
     "iopub.status.busy": "2024-02-11T10:52:48.941754Z",
     "iopub.status.idle": "2024-02-11T10:53:03.185956Z",
     "shell.execute_reply": "2024-02-11T10:53:03.184168Z"
    },
    "papermill": {
     "duration": 14.260297,
     "end_time": "2024-02-11T10:53:03.188781",
     "exception": false,
     "start_time": "2024-02-11T10:52:48.928484",
     "status": "completed"
    },
    "tags": []
   },
   "outputs": [],
   "source": [
    "import tensorflow as tf"
   ]
  },
  {
   "cell_type": "code",
   "execution_count": 74,
   "id": "f562bd39",
   "metadata": {
    "execution": {
     "iopub.execute_input": "2024-02-11T10:53:03.219555Z",
     "iopub.status.busy": "2024-02-11T10:53:03.218612Z",
     "iopub.status.idle": "2024-02-11T10:53:03.522083Z",
     "shell.execute_reply": "2024-02-11T10:53:03.521059Z"
    },
    "papermill": {
     "duration": 0.322128,
     "end_time": "2024-02-11T10:53:03.524930",
     "exception": false,
     "start_time": "2024-02-11T10:53:03.202802",
     "status": "completed"
    },
    "tags": []
   },
   "outputs": [],
   "source": [
    "ann = tf.keras.models.Sequential()"
   ]
  },
  {
   "cell_type": "code",
   "execution_count": 75,
   "id": "f9158471",
   "metadata": {
    "execution": {
     "iopub.execute_input": "2024-02-11T10:53:03.552372Z",
     "iopub.status.busy": "2024-02-11T10:53:03.551343Z",
     "iopub.status.idle": "2024-02-11T10:53:03.563400Z",
     "shell.execute_reply": "2024-02-11T10:53:03.561501Z"
    },
    "papermill": {
     "duration": 0.028699,
     "end_time": "2024-02-11T10:53:03.566096",
     "exception": false,
     "start_time": "2024-02-11T10:53:03.537397",
     "status": "completed"
    },
    "tags": []
   },
   "outputs": [],
   "source": [
    "ann.add(tf.keras.layers.Dense(units=10,activation='sigmoid'))"
   ]
  },
  {
   "cell_type": "code",
   "execution_count": 76,
   "id": "06c80e84",
   "metadata": {
    "execution": {
     "iopub.execute_input": "2024-02-11T10:53:03.592585Z",
     "iopub.status.busy": "2024-02-11T10:53:03.592128Z",
     "iopub.status.idle": "2024-02-11T10:53:03.598900Z",
     "shell.execute_reply": "2024-02-11T10:53:03.597852Z"
    },
    "papermill": {
     "duration": 0.023017,
     "end_time": "2024-02-11T10:53:03.601207",
     "exception": false,
     "start_time": "2024-02-11T10:53:03.578190",
     "status": "completed"
    },
    "tags": []
   },
   "outputs": [],
   "source": [
    "ann.add(tf.keras.layers.Dense(units=10,activation='sigmoid'))"
   ]
  },
  {
   "cell_type": "code",
   "execution_count": 77,
   "id": "92bf1c38",
   "metadata": {
    "execution": {
     "iopub.execute_input": "2024-02-11T10:53:03.627955Z",
     "iopub.status.busy": "2024-02-11T10:53:03.627162Z",
     "iopub.status.idle": "2024-02-11T10:53:03.633141Z",
     "shell.execute_reply": "2024-02-11T10:53:03.632442Z"
    },
    "papermill": {
     "duration": 0.02176,
     "end_time": "2024-02-11T10:53:03.635174",
     "exception": false,
     "start_time": "2024-02-11T10:53:03.613414",
     "status": "completed"
    },
    "tags": []
   },
   "outputs": [],
   "source": [
    "ann.add(tf.keras.layers.Dense(units=1,activation='sigmoid'))"
   ]
  },
  {
   "cell_type": "code",
   "execution_count": 78,
   "id": "0fa5d72c",
   "metadata": {
    "execution": {
     "iopub.execute_input": "2024-02-11T10:53:03.661733Z",
     "iopub.status.busy": "2024-02-11T10:53:03.661319Z",
     "iopub.status.idle": "2024-02-11T10:53:03.695148Z",
     "shell.execute_reply": "2024-02-11T10:53:03.693539Z"
    },
    "papermill": {
     "duration": 0.050817,
     "end_time": "2024-02-11T10:53:03.698723",
     "exception": false,
     "start_time": "2024-02-11T10:53:03.647906",
     "status": "completed"
    },
    "tags": []
   },
   "outputs": [],
   "source": [
    "ann.compile(optimizer ='adam' , loss='binary_crossentropy' , metrics= ['accuracy'])"
   ]
  },
  {
   "cell_type": "code",
   "execution_count": 79,
   "id": "22688289",
   "metadata": {
    "execution": {
     "iopub.execute_input": "2024-02-11T10:53:03.724893Z",
     "iopub.status.busy": "2024-02-11T10:53:03.724467Z",
     "iopub.status.idle": "2024-02-11T10:53:03.731633Z",
     "shell.execute_reply": "2024-02-11T10:53:03.730423Z"
    },
    "papermill": {
     "duration": 0.023406,
     "end_time": "2024-02-11T10:53:03.734376",
     "exception": false,
     "start_time": "2024-02-11T10:53:03.710970",
     "status": "completed"
    },
    "tags": []
   },
   "outputs": [],
   "source": [
    "from tensorflow.keras.callbacks import EarlyStopping\n",
    "early_stopping = EarlyStopping(monitor='val_loss', patience=10)"
   ]
  },
  {
   "cell_type": "code",
   "execution_count": 80,
   "id": "17a2063d",
   "metadata": {
    "execution": {
     "iopub.execute_input": "2024-02-11T10:53:03.759613Z",
     "iopub.status.busy": "2024-02-11T10:53:03.759172Z",
     "iopub.status.idle": "2024-02-11T10:54:32.158502Z",
     "shell.execute_reply": "2024-02-11T10:54:32.157482Z"
    },
    "papermill": {
     "duration": 88.414072,
     "end_time": "2024-02-11T10:54:32.160360",
     "exception": false,
     "start_time": "2024-02-11T10:53:03.746288",
     "status": "completed"
    },
    "tags": []
   },
   "outputs": [
    {
     "name": "stdout",
     "output_type": "stream",
     "text": [
      "Epoch 1/12\n",
      "\u001b[1m3646/3646\u001b[0m \u001b[32m━━━━━━━━━━━━━━━━━━━━\u001b[0m\u001b[37m\u001b[0m \u001b[1m4s\u001b[0m 839us/step - accuracy: 0.8447 - loss: 0.3779\n",
      "Epoch 2/12\n",
      "\u001b[1m 171/3646\u001b[0m \u001b[37m━━━━━━━━━━━━━━━━━━━━\u001b[0m \u001b[1m3s\u001b[0m 892us/step - accuracy: 0.9141 - loss: 0.2067"
     ]
    },
    {
     "name": "stderr",
     "output_type": "stream",
     "text": [
      "c:\\Users\\yuuki\\AppData\\Local\\Programs\\Python\\Python312\\Lib\\site-packages\\keras\\src\\callbacks\\early_stopping.py:156: UserWarning: Early stopping conditioned on metric `val_loss` which is not available. Available metrics are: accuracy,loss\n",
      "  current = self.get_monitor_value(logs)\n"
     ]
    },
    {
     "name": "stdout",
     "output_type": "stream",
     "text": [
      "\u001b[1m3646/3646\u001b[0m \u001b[32m━━━━━━━━━━━━━━━━━━━━\u001b[0m\u001b[37m\u001b[0m \u001b[1m3s\u001b[0m 847us/step - accuracy: 0.9498 - loss: 0.1507\n",
      "Epoch 3/12\n",
      "\u001b[1m3646/3646\u001b[0m \u001b[32m━━━━━━━━━━━━━━━━━━━━\u001b[0m\u001b[37m\u001b[0m \u001b[1m3s\u001b[0m 776us/step - accuracy: 0.9558 - loss: 0.1367\n",
      "Epoch 4/12\n",
      "\u001b[1m3646/3646\u001b[0m \u001b[32m━━━━━━━━━━━━━━━━━━━━\u001b[0m\u001b[37m\u001b[0m \u001b[1m3s\u001b[0m 729us/step - accuracy: 0.9547 - loss: 0.1349\n",
      "Epoch 5/12\n",
      "\u001b[1m3646/3646\u001b[0m \u001b[32m━━━━━━━━━━━━━━━━━━━━\u001b[0m\u001b[37m\u001b[0m \u001b[1m3s\u001b[0m 727us/step - accuracy: 0.9544 - loss: 0.1345\n",
      "Epoch 6/12\n",
      "\u001b[1m3646/3646\u001b[0m \u001b[32m━━━━━━━━━━━━━━━━━━━━\u001b[0m\u001b[37m\u001b[0m \u001b[1m3s\u001b[0m 782us/step - accuracy: 0.9543 - loss: 0.1369\n",
      "Epoch 7/12\n",
      "\u001b[1m3646/3646\u001b[0m \u001b[32m━━━━━━━━━━━━━━━━━━━━\u001b[0m\u001b[37m\u001b[0m \u001b[1m3s\u001b[0m 756us/step - accuracy: 0.9549 - loss: 0.1366\n",
      "Epoch 8/12\n",
      "\u001b[1m3646/3646\u001b[0m \u001b[32m━━━━━━━━━━━━━━━━━━━━\u001b[0m\u001b[37m\u001b[0m \u001b[1m3s\u001b[0m 826us/step - accuracy: 0.9575 - loss: 0.1328\n",
      "Epoch 9/12\n",
      "\u001b[1m3646/3646\u001b[0m \u001b[32m━━━━━━━━━━━━━━━━━━━━\u001b[0m\u001b[37m\u001b[0m \u001b[1m4s\u001b[0m 1ms/step - accuracy: 0.9551 - loss: 0.1409\n",
      "Epoch 10/12\n",
      "\u001b[1m3646/3646\u001b[0m \u001b[32m━━━━━━━━━━━━━━━━━━━━\u001b[0m\u001b[37m\u001b[0m \u001b[1m4s\u001b[0m 1ms/step - accuracy: 0.9568 - loss: 0.1349\n",
      "Epoch 11/12\n",
      "\u001b[1m3646/3646\u001b[0m \u001b[32m━━━━━━━━━━━━━━━━━━━━\u001b[0m\u001b[37m\u001b[0m \u001b[1m3s\u001b[0m 894us/step - accuracy: 0.9546 - loss: 0.1419\n",
      "Epoch 12/12\n",
      "\u001b[1m3646/3646\u001b[0m \u001b[32m━━━━━━━━━━━━━━━━━━━━\u001b[0m\u001b[37m\u001b[0m \u001b[1m3s\u001b[0m 941us/step - accuracy: 0.9561 - loss: 0.1330\n"
     ]
    },
    {
     "data": {
      "text/plain": [
       "<keras.src.callbacks.history.History at 0x268937fb800>"
      ]
     },
     "execution_count": 80,
     "metadata": {},
     "output_type": "execute_result"
    }
   ],
   "source": [
    "#training the ann on training set\n",
    "ann.fit(X_train,y_train,batch_size=55,epochs=12,callbacks=[early_stopping])"
   ]
  },
  {
   "cell_type": "code",
   "execution_count": 81,
   "id": "e127dbc3",
   "metadata": {},
   "outputs": [
    {
     "data": {
      "text/html": [
       "<div>\n",
       "<style scoped>\n",
       "    .dataframe tbody tr th:only-of-type {\n",
       "        vertical-align: middle;\n",
       "    }\n",
       "\n",
       "    .dataframe tbody tr th {\n",
       "        vertical-align: top;\n",
       "    }\n",
       "\n",
       "    .dataframe thead th {\n",
       "        text-align: right;\n",
       "    }\n",
       "</style>\n",
       "<table border=\"1\" class=\"dataframe\">\n",
       "  <thead>\n",
       "    <tr style=\"text-align: right;\">\n",
       "      <th></th>\n",
       "      <th>Destination Port</th>\n",
       "      <th>Bwd Packet Length Min</th>\n",
       "      <th>Bwd Packet Length Mean</th>\n",
       "      <th>Bwd Packets/s</th>\n",
       "      <th>Min Packet Length</th>\n",
       "      <th>PSH Flag Count</th>\n",
       "      <th>URG Flag Count</th>\n",
       "      <th>Avg Fwd Segment Size</th>\n",
       "      <th>Avg Bwd Segment Size</th>\n",
       "      <th>min_seg_size_forward</th>\n",
       "      <th>label</th>\n",
       "    </tr>\n",
       "  </thead>\n",
       "  <tbody>\n",
       "    <tr>\n",
       "      <th>1463</th>\n",
       "      <td>80</td>\n",
       "      <td>0</td>\n",
       "      <td>282</td>\n",
       "      <td>0</td>\n",
       "      <td>0</td>\n",
       "      <td>1</td>\n",
       "      <td>0</td>\n",
       "      <td>117</td>\n",
       "      <td>282</td>\n",
       "      <td>32</td>\n",
       "      <td>1</td>\n",
       "    </tr>\n",
       "    <tr>\n",
       "      <th>1467</th>\n",
       "      <td>80</td>\n",
       "      <td>0</td>\n",
       "      <td>0</td>\n",
       "      <td>14285</td>\n",
       "      <td>0</td>\n",
       "      <td>0</td>\n",
       "      <td>1</td>\n",
       "      <td>0</td>\n",
       "      <td>0</td>\n",
       "      <td>32</td>\n",
       "      <td>1</td>\n",
       "    </tr>\n",
       "    <tr>\n",
       "      <th>1468</th>\n",
       "      <td>80</td>\n",
       "      <td>0</td>\n",
       "      <td>282</td>\n",
       "      <td>0</td>\n",
       "      <td>0</td>\n",
       "      <td>1</td>\n",
       "      <td>0</td>\n",
       "      <td>117</td>\n",
       "      <td>282</td>\n",
       "      <td>32</td>\n",
       "      <td>1</td>\n",
       "    </tr>\n",
       "    <tr>\n",
       "      <th>1480</th>\n",
       "      <td>80</td>\n",
       "      <td>0</td>\n",
       "      <td>0</td>\n",
       "      <td>19230</td>\n",
       "      <td>0</td>\n",
       "      <td>0</td>\n",
       "      <td>1</td>\n",
       "      <td>0</td>\n",
       "      <td>0</td>\n",
       "      <td>32</td>\n",
       "      <td>1</td>\n",
       "    </tr>\n",
       "    <tr>\n",
       "      <th>1511</th>\n",
       "      <td>80</td>\n",
       "      <td>0</td>\n",
       "      <td>0</td>\n",
       "      <td>0</td>\n",
       "      <td>0</td>\n",
       "      <td>1</td>\n",
       "      <td>0</td>\n",
       "      <td>0</td>\n",
       "      <td>0</td>\n",
       "      <td>32</td>\n",
       "      <td>1</td>\n",
       "    </tr>\n",
       "  </tbody>\n",
       "</table>\n",
       "</div>"
      ],
      "text/plain": [
       "       Destination Port   Bwd Packet Length Min   Bwd Packet Length Mean  \\\n",
       "1463                 80                       0                      282   \n",
       "1467                 80                       0                        0   \n",
       "1468                 80                       0                      282   \n",
       "1480                 80                       0                        0   \n",
       "1511                 80                       0                        0   \n",
       "\n",
       "       Bwd Packets/s   Min Packet Length   PSH Flag Count   URG Flag Count  \\\n",
       "1463               0                   0                1                0   \n",
       "1467           14285                   0                0                1   \n",
       "1468               0                   0                1                0   \n",
       "1480           19230                   0                0                1   \n",
       "1511               0                   0                1                0   \n",
       "\n",
       "       Avg Fwd Segment Size   Avg Bwd Segment Size   min_seg_size_forward  \\\n",
       "1463                    117                    282                     32   \n",
       "1467                      0                      0                     32   \n",
       "1468                    117                    282                     32   \n",
       "1480                      0                      0                     32   \n",
       "1511                      0                      0                     32   \n",
       "\n",
       "      label  \n",
       "1463      1  \n",
       "1467      1  \n",
       "1468      1  \n",
       "1480      1  \n",
       "1511      1  "
      ]
     },
     "execution_count": 81,
     "metadata": {},
     "output_type": "execute_result"
    }
   ],
   "source": [
    "df_new[df[' Label']==1].head(5) # portscan"
   ]
  },
  {
   "cell_type": "code",
   "execution_count": 82,
   "id": "62eac3ea",
   "metadata": {},
   "outputs": [
    {
     "data": {
      "text/html": [
       "<div>\n",
       "<style scoped>\n",
       "    .dataframe tbody tr th:only-of-type {\n",
       "        vertical-align: middle;\n",
       "    }\n",
       "\n",
       "    .dataframe tbody tr th {\n",
       "        vertical-align: top;\n",
       "    }\n",
       "\n",
       "    .dataframe thead th {\n",
       "        text-align: right;\n",
       "    }\n",
       "</style>\n",
       "<table border=\"1\" class=\"dataframe\">\n",
       "  <thead>\n",
       "    <tr style=\"text-align: right;\">\n",
       "      <th></th>\n",
       "      <th>Destination Port</th>\n",
       "      <th>Bwd Packet Length Min</th>\n",
       "      <th>Bwd Packet Length Mean</th>\n",
       "      <th>Bwd Packets/s</th>\n",
       "      <th>Min Packet Length</th>\n",
       "      <th>PSH Flag Count</th>\n",
       "      <th>URG Flag Count</th>\n",
       "      <th>Avg Fwd Segment Size</th>\n",
       "      <th>Avg Bwd Segment Size</th>\n",
       "      <th>min_seg_size_forward</th>\n",
       "      <th>label</th>\n",
       "    </tr>\n",
       "  </thead>\n",
       "  <tbody>\n",
       "    <tr>\n",
       "      <th>0</th>\n",
       "      <td>22</td>\n",
       "      <td>0</td>\n",
       "      <td>158</td>\n",
       "      <td>34</td>\n",
       "      <td>0</td>\n",
       "      <td>1</td>\n",
       "      <td>0</td>\n",
       "      <td>64</td>\n",
       "      <td>158</td>\n",
       "      <td>32</td>\n",
       "      <td>0</td>\n",
       "    </tr>\n",
       "    <tr>\n",
       "      <th>1</th>\n",
       "      <td>22</td>\n",
       "      <td>0</td>\n",
       "      <td>158</td>\n",
       "      <td>33</td>\n",
       "      <td>0</td>\n",
       "      <td>1</td>\n",
       "      <td>0</td>\n",
       "      <td>64</td>\n",
       "      <td>158</td>\n",
       "      <td>32</td>\n",
       "      <td>0</td>\n",
       "    </tr>\n",
       "    <tr>\n",
       "      <th>2</th>\n",
       "      <td>22</td>\n",
       "      <td>0</td>\n",
       "      <td>0</td>\n",
       "      <td>6250</td>\n",
       "      <td>0</td>\n",
       "      <td>0</td>\n",
       "      <td>1</td>\n",
       "      <td>0</td>\n",
       "      <td>0</td>\n",
       "      <td>32</td>\n",
       "      <td>0</td>\n",
       "    </tr>\n",
       "    <tr>\n",
       "      <th>3</th>\n",
       "      <td>22</td>\n",
       "      <td>0</td>\n",
       "      <td>157</td>\n",
       "      <td>32</td>\n",
       "      <td>0</td>\n",
       "      <td>1</td>\n",
       "      <td>0</td>\n",
       "      <td>66</td>\n",
       "      <td>157</td>\n",
       "      <td>32</td>\n",
       "      <td>0</td>\n",
       "    </tr>\n",
       "    <tr>\n",
       "      <th>4</th>\n",
       "      <td>35396</td>\n",
       "      <td>0</td>\n",
       "      <td>0</td>\n",
       "      <td>25974</td>\n",
       "      <td>0</td>\n",
       "      <td>0</td>\n",
       "      <td>1</td>\n",
       "      <td>0</td>\n",
       "      <td>0</td>\n",
       "      <td>32</td>\n",
       "      <td>0</td>\n",
       "    </tr>\n",
       "  </tbody>\n",
       "</table>\n",
       "</div>"
      ],
      "text/plain": [
       "    Destination Port   Bwd Packet Length Min   Bwd Packet Length Mean  \\\n",
       "0                 22                       0                      158   \n",
       "1                 22                       0                      158   \n",
       "2                 22                       0                        0   \n",
       "3                 22                       0                      157   \n",
       "4              35396                       0                        0   \n",
       "\n",
       "    Bwd Packets/s   Min Packet Length   PSH Flag Count   URG Flag Count  \\\n",
       "0              34                   0                1                0   \n",
       "1              33                   0                1                0   \n",
       "2            6250                   0                0                1   \n",
       "3              32                   0                1                0   \n",
       "4           25974                   0                0                1   \n",
       "\n",
       "    Avg Fwd Segment Size   Avg Bwd Segment Size   min_seg_size_forward  label  \n",
       "0                     64                    158                     32      0  \n",
       "1                     64                    158                     32      0  \n",
       "2                      0                      0                     32      0  \n",
       "3                     66                    157                     32      0  \n",
       "4                      0                      0                     32      0  "
      ]
     },
     "execution_count": 82,
     "metadata": {},
     "output_type": "execute_result"
    }
   ],
   "source": [
    "df_new[df[' Label']==0].head(5) # benign"
   ]
  },
  {
   "cell_type": "code",
   "execution_count": 83,
   "id": "201cbdb4",
   "metadata": {
    "execution": {
     "iopub.execute_input": "2024-02-11T10:54:32.395412Z",
     "iopub.status.busy": "2024-02-11T10:54:32.394725Z",
     "iopub.status.idle": "2024-02-11T10:54:32.552703Z",
     "shell.execute_reply": "2024-02-11T10:54:32.551795Z"
    },
    "papermill": {
     "duration": 0.277789,
     "end_time": "2024-02-11T10:54:32.555346",
     "exception": false,
     "start_time": "2024-02-11T10:54:32.277557",
     "status": "completed"
    },
    "tags": []
   },
   "outputs": [
    {
     "name": "stdout",
     "output_type": "stream",
     "text": [
      "\u001b[1m1/1\u001b[0m \u001b[32m━━━━━━━━━━━━━━━━━━━━\u001b[0m\u001b[37m\u001b[0m \u001b[1m0s\u001b[0m 44ms/step\n",
      "\u001b[1m1/1\u001b[0m \u001b[32m━━━━━━━━━━━━━━━━━━━━\u001b[0m\u001b[37m\u001b[0m \u001b[1m0s\u001b[0m 16ms/step\n",
      "\u001b[1m1/1\u001b[0m \u001b[32m━━━━━━━━━━━━━━━━━━━━\u001b[0m\u001b[37m\u001b[0m \u001b[1m0s\u001b[0m 17ms/step\n",
      "\u001b[1m1/1\u001b[0m \u001b[32m━━━━━━━━━━━━━━━━━━━━\u001b[0m\u001b[37m\u001b[0m \u001b[1m0s\u001b[0m 17ms/step\n",
      "Prediction 1 (input_data_1): Benigno\n",
      "Prediction 1_1 (input_data_1_1): Portscan\n",
      "Prediction 0 (input_data_0): Portscan\n",
      "Prediction 0_1 (input_data_0_1): Portscan\n"
     ]
    }
   ],
   "source": [
    "import numpy as np\n",
    "\n",
    "# Valores hipotéticos para as 10 features selecionadas\n",
    "input_data_1 = np.array([[80, 0, 282, 0, 0, 1, 0, 117, 282, 32]])  # label 1 (Portscan)\n",
    "input_data_1_1 = np.array([[80, 0, 0, 14285, 0, 0, 1, 0, 0, 32]])  # label 1 (Portscan)\n",
    "\n",
    "input_data_0 = np.array([[35396, 0, 0, 25974, 0, 0, 1, 0, 0, 32]])  # label 0 (Benigno)\n",
    "input_data_0_1 = np.array([[22, 0, 0, 6250, 0, 0, 1, 0, 0, 32]])  # label 0 (Benigno)\n",
    "\n",
    "# Definir o limiar de decisão\n",
    "threshold = 0.5\n",
    "\n",
    "# Previsões com limiar aplicado\n",
    "prediction_1 = (ann.predict(input_data_1) > threshold).astype(int)\n",
    "prediction_1_1 = (ann.predict(input_data_1_1) > threshold).astype(int)\n",
    "prediction_0 = (ann.predict(input_data_0) > threshold).astype(int)\n",
    "prediction_0_1 = (ann.predict(input_data_0_1) > threshold).astype(int)\n",
    "\n",
    "# Exibir as previsões (Portscan=1, Benigno=0)\n",
    "print(f'Prediction 1 (input_data_1): {\"Portscan\" if prediction_1 == 1 else \"Benigno\"}')\n",
    "print(f'Prediction 1_1 (input_data_1_1): {\"Portscan\" if prediction_1_1 == 1 else \"Benigno\"}')\n",
    "print(f'Prediction 0 (input_data_0): {\"Portscan\" if prediction_0 == 1 else \"Benigno\"}')\n",
    "print(f'Prediction 0_1 (input_data_0_1): {\"Portscan\" if prediction_0_1 == 1 else \"Benigno\"}')\n"
   ]
  },
  {
   "cell_type": "code",
   "execution_count": 84,
   "id": "2f0c24a7",
   "metadata": {
    "papermill": {
     "duration": 0.12089,
     "end_time": "2024-02-11T10:54:34.845311",
     "exception": false,
     "start_time": "2024-02-11T10:54:34.724421",
     "status": "completed"
    },
    "tags": []
   },
   "outputs": [
    {
     "name": "stderr",
     "output_type": "stream",
     "text": [
      "WARNING:absl:You are saving your model as an HDF5 file via `model.save()` or `keras.saving.save_model(model)`. This file format is considered legacy. We recommend using instead the native Keras format, e.g. `model.save('my_model.keras')` or `keras.saving.save_model(model, 'my_model.keras')`. \n"
     ]
    }
   ],
   "source": [
    "# Save the trained model in the native Keras format\n",
    "ann.save('ann_model.h5')\n"
   ]
  }
 ],
 "metadata": {
  "kaggle": {
   "accelerator": "none",
   "dataSources": [
    {
     "datasetId": 3674161,
     "sourceId": 6376134,
     "sourceType": "datasetVersion"
    }
   ],
   "dockerImageVersionId": 30635,
   "isGpuEnabled": false,
   "isInternetEnabled": true,
   "language": "python",
   "sourceType": "notebook"
  },
  "kernelspec": {
   "display_name": "Python 3",
   "language": "python",
   "name": "python3"
  },
  "language_info": {
   "codemirror_mode": {
    "name": "ipython",
    "version": 3
   },
   "file_extension": ".py",
   "mimetype": "text/x-python",
   "name": "python",
   "nbconvert_exporter": "python",
   "pygments_lexer": "ipython3",
   "version": "3.12.6"
  },
  "papermill": {
   "default_parameters": {},
   "duration": 122.172381,
   "end_time": "2024-02-11T10:54:40.996784",
   "environment_variables": {},
   "exception": null,
   "input_path": "__notebook__.ipynb",
   "output_path": "__notebook__.ipynb",
   "parameters": {},
   "start_time": "2024-02-11T10:52:38.824403",
   "version": "2.4.0"
  }
 },
 "nbformat": 4,
 "nbformat_minor": 5
}
